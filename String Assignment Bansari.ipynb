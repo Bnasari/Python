{
 "cells": [
  {
   "cell_type": "markdown",
   "metadata": {},
   "source": [
    "## 1. Define different types of variables (integer, boolean,string, float, complex) and print their values and their types"
   ]
  },
  {
   "cell_type": "code",
   "execution_count": 1,
   "metadata": {},
   "outputs": [
    {
     "name": "stdout",
     "output_type": "stream",
     "text": [
      "<class 'int'>\n",
      "8\n",
      "2\n",
      "15\n",
      "0.6\n",
      "243\n"
     ]
    }
   ],
   "source": [
    "#Integer data type\n",
    "a = 3\n",
    "b = 5\n",
    "print(type(a))\n",
    "add = a + b\n",
    "sub = b - a\n",
    "mul = a * b\n",
    "div = a / b\n",
    "exp = a ** b\n",
    "\n",
    "print(add)\n",
    "print(sub)\n",
    "print(mul)\n",
    "print(div)\n",
    "print(exp)\n"
   ]
  },
  {
   "cell_type": "code",
   "execution_count": 2,
   "metadata": {},
   "outputs": [
    {
     "name": "stdout",
     "output_type": "stream",
     "text": [
      "<class 'float'>\n",
      "8.7\n",
      "1.7000000000000002\n",
      "18.2\n",
      "0.673076923076923\n",
      "674.7669933054266\n"
     ]
    }
   ],
   "source": [
    "#Float data type\n",
    "a = 3.5\n",
    "b = 5.2\n",
    "print(type(a))\n",
    "add = a + b\n",
    "sub = b - a\n",
    "mul = a * b\n",
    "div = a / b\n",
    "exp = a ** b\n",
    "\n",
    "print(add)\n",
    "print(sub)\n",
    "print(mul)\n",
    "print(div)\n",
    "print(exp)\n"
   ]
  },
  {
   "cell_type": "code",
   "execution_count": 7,
   "metadata": {},
   "outputs": [
    {
     "name": "stdout",
     "output_type": "stream",
     "text": [
      "False\n",
      "True\n",
      "False\n",
      "<class 'bool'>\n",
      "<class 'bool'>\n",
      "<class 'bool'>\n"
     ]
    }
   ],
   "source": [
    "#Boolean data type\n",
    "a = 9\n",
    "b = 20\n",
    "print(a > b)\n",
    "print(b > a)\n",
    "print(a == b)\n",
    "print(type(a > b))\n",
    "print(type(b > a))\n",
    "print(type(a == b))"
   ]
  },
  {
   "cell_type": "code",
   "execution_count": 8,
   "metadata": {},
   "outputs": [
    {
     "name": "stdout",
     "output_type": "stream",
     "text": [
      "Bansari Thakkar\n",
      "<class 'str'>\n"
     ]
    }
   ],
   "source": [
    "#string data type\n",
    "Firstname = \"Bansari\"\n",
    "Lastname = \"Thakkar\"\n",
    "fullname = Firstname + \" \" + Lastname\n",
    "print(fullname)\n",
    "print(type(fullname))"
   ]
  },
  {
   "cell_type": "code",
   "execution_count": 9,
   "metadata": {},
   "outputs": [
    {
     "name": "stdout",
     "output_type": "stream",
     "text": [
      "(2+4j)\n",
      "<class 'complex'>\n"
     ]
    }
   ],
   "source": [
    "#Complex data type\n",
    "z1 = 2\n",
    "z2 = 4j\n",
    "print(z1 + z2)\n",
    "print(type(z1 + z2))"
   ]
  },
  {
   "cell_type": "markdown",
   "metadata": {},
   "source": [
    "## 2. In the above question convert float variable into integer type and integer variable into str type."
   ]
  },
  {
   "cell_type": "code",
   "execution_count": 11,
   "metadata": {},
   "outputs": [
    {
     "name": "stdout",
     "output_type": "stream",
     "text": [
      "3\n",
      "5\n"
     ]
    }
   ],
   "source": [
    "# coverting float to integer\n",
    "a = 3.5\n",
    "b = 5.2\n",
    "print(int(a))\n",
    "print(int(b))"
   ]
  },
  {
   "cell_type": "code",
   "execution_count": 97,
   "metadata": {},
   "outputs": [
    {
     "name": "stdout",
     "output_type": "stream",
     "text": [
      "<class 'int'>\n",
      "<class 'str'>\n"
     ]
    }
   ],
   "source": [
    "num = 10\n",
    "\n",
    "# check and print type of num variable \n",
    "print(type(num)) \n",
    "\n",
    "# convert the num into string \n",
    "converted_num = f'{num}'\n",
    "\n",
    "# print type of converted_num \n",
    "print(type(converted_num)) \n"
   ]
  },
  {
   "cell_type": "code",
   "execution_count": 100,
   "metadata": {},
   "outputs": [
    {
     "name": "stdout",
     "output_type": "stream",
     "text": [
      "What is your age? 12\n",
      "<class 'int'>\n",
      "19\n"
     ]
    }
   ],
   "source": [
    "raw_user_age = int(input(\"What is your age? \"))\n",
    "\n",
    "print(type(raw_user_age))\n",
    "\n",
    "print(raw_user_age + 7)"
   ]
  },
  {
   "cell_type": "markdown",
   "metadata": {},
   "source": [
    "## 3. What will you get converting “abc” into boolean ?"
   ]
  },
  {
   "cell_type": "code",
   "execution_count": 14,
   "metadata": {},
   "outputs": [
    {
     "name": "stdout",
     "output_type": "stream",
     "text": [
      "True\n",
      "<class 'bool'>\n"
     ]
    }
   ],
   "source": [
    "a_string = \"abc\"\n",
    "true_boolean = bool(a_string)\n",
    "\n",
    "print(true_boolean)\n",
    "print(type(true_boolean))"
   ]
  },
  {
   "cell_type": "markdown",
   "metadata": {},
   "source": [
    "## 4. Print the substring from index 2 to index 4 for any given string. For example (llo) from “Hello World”"
   ]
  },
  {
   "cell_type": "code",
   "execution_count": 22,
   "metadata": {},
   "outputs": [
    {
     "name": "stdout",
     "output_type": "stream",
     "text": [
      "ick\n"
     ]
    }
   ],
   "source": [
    "x = \"brickss!\"\n",
    "x[2:]\n",
    "'ickss!'\n",
    "x[:2]\n",
    "'br'\n",
    "x[:-2]\n",
    "'bricks'\n",
    "x[-2:]\n",
    "'s!'\n",
    "x[2:-3]\n",
    "'ick'\n",
    "print(x[2:-3])"
   ]
  },
  {
   "cell_type": "markdown",
   "metadata": {},
   "source": [
    "## 5. Write a program to check a substring in a given string.For example 'e' is present in the word 'Umbrella'"
   ]
  },
  {
   "cell_type": "code",
   "execution_count": 50,
   "metadata": {},
   "outputs": [
    {
     "name": "stdout",
     "output_type": "stream",
     "text": [
      "0\n",
      "28\n"
     ]
    }
   ],
   "source": [
    "str=\"Safa Mulani is a student of Engineering discipline.\"\n",
    "sub1=\"Safa\"\n",
    "sub2=\"Engineering\"\n",
    " \n",
    "print(str.find(sub1)) \n",
    " \n",
    "print(str.find(sub2))"
   ]
  },
  {
   "cell_type": "code",
   "execution_count": 51,
   "metadata": {},
   "outputs": [
    {
     "name": "stdout",
     "output_type": "stream",
     "text": [
      "4\n"
     ]
    }
   ],
   "source": [
    "str=\"Umbrella\"\n",
    "sub1=\"e\"\n",
    "print(str.find(sub1))"
   ]
  },
  {
   "cell_type": "markdown",
   "metadata": {},
   "source": [
    "## 6. Use the correct comparison operator to check if 5 is not equal to 10."
   ]
  },
  {
   "cell_type": "code",
   "execution_count": 32,
   "metadata": {},
   "outputs": [
    {
     "name": "stdout",
     "output_type": "stream",
     "text": [
      "Line 2 - a is not equal to b\n",
      "Line 3 - a is less than b\n"
     ]
    }
   ],
   "source": [
    "a = 5\n",
    "b = 10\n",
    "if ( a == b ):\n",
    "    print(\" a is equal to b\")\n",
    "else:\n",
    "    print(\"Line 2 - a is not equal to b\")\n",
    "if ( a < b ):\n",
    "    print(\"Line 3 - a is less than b\")\n",
    "else:\n",
    "    print(\"Line 4 - a is not less than b\")\n"
   ]
  },
  {
   "cell_type": "code",
   "execution_count": 33,
   "metadata": {},
   "outputs": [
    {
     "name": "stdout",
     "output_type": "stream",
     "text": [
      "5 is not equal to 10\n"
     ]
    }
   ],
   "source": [
    "a = 5\n",
    "b = 10\n",
    "if ( a == b ):\n",
    "    print(\" 5 is equal to 10\")\n",
    "else:\n",
    "    print(\"5 is not equal to 10\")"
   ]
  },
  {
   "cell_type": "markdown",
   "metadata": {},
   "source": [
    "## 7. Write a program to get a string from the user and sort the words of the string in alphabetical order."
   ]
  },
  {
   "cell_type": "code",
   "execution_count": 23,
   "metadata": {},
   "outputs": [
    {
     "name": "stdout",
     "output_type": "stream",
     "text": [
      "Hello this is my python book:\n",
      "book\n",
      "hello\n",
      "is\n",
      "my\n",
      "python\n",
      "this\n"
     ]
    }
   ],
   "source": [
    "my_str = \"Hello this is my python book\"\n",
    "\n",
    "# To take input from the user\n",
    "#my_str = input(\"Enter a string: \")\n",
    "\n",
    "# breakdown the string into a list of words\n",
    "words = [word.lower() for word in my_str.split()]\n",
    "\n",
    "# sort the list\n",
    "words.sort()\n",
    "\n",
    "# display the sorted words\n",
    "\n",
    "print(\"Hello this is my python book:\")\n",
    "for word in words:\n",
    "   print(word)"
   ]
  },
  {
   "cell_type": "markdown",
   "metadata": {},
   "source": [
    "## 8. Join two words using special characters like ‘ – ‘ ,’#’"
   ]
  },
  {
   "cell_type": "code",
   "execution_count": 93,
   "metadata": {},
   "outputs": [
    {
     "name": "stdout",
     "output_type": "stream",
     "text": [
      "Concatenated String using join() = TrueFriend\n",
      "Concatenated String using join() and whitespaces = True Friend\n"
     ]
    }
   ],
   "source": [
    "s1 = 'True'\n",
    "s2 = 'Friend'\n",
    "\n",
    "print('Concatenated String using join() =', \"\".join([s1, s2]))\n",
    "\n",
    "print('Concatenated String using join() and whitespaces =', \" \".join([s1, s2]))"
   ]
  },
  {
   "cell_type": "markdown",
   "metadata": {},
   "source": [
    "## 9. Find all occurrences of “INDIA” in a given string ignoring the case.input_str = \"Welcome to INDIA. india is awesome."
   ]
  },
  {
   "cell_type": "code",
   "execution_count": 89,
   "metadata": {},
   "outputs": [
    {
     "name": "stdout",
     "output_type": "stream",
     "text": [
      "INDIA\n"
     ]
    }
   ],
   "source": [
    "inputString = \"Welcome to INDIA. india is awesome\"\n",
    "substring = \"INDIA\"\n",
    "tempString = substring.upper()\n",
    "\n",
    "print(tempString)"
   ]
  },
  {
   "cell_type": "markdown",
   "metadata": {},
   "source": [
    "## 10. Replace first two ‘l’ with ‘n’ in ‘Hello World’"
   ]
  },
  {
   "cell_type": "code",
   "execution_count": 39,
   "metadata": {},
   "outputs": [
    {
     "name": "stdout",
     "output_type": "stream",
     "text": [
      "Henno World\n"
     ]
    }
   ],
   "source": [
    "old_string = \"Hello World\"\n",
    "\n",
    "string_list = list(old_string)\n",
    "string_list[2] = \"n\"\n",
    "string_list[3] = \"n\"\n",
    "new_string = \"\".join(string_list)\n",
    "print(new_string)"
   ]
  },
  {
   "cell_type": "markdown",
   "metadata": {},
   "source": [
    "## 11. Write a program that takes your full name as input and displays the abbreviations of the first and middle namesexcept the last name which is displayed as it is. Forexample, if your name is Robert Brett Roser, then theoutput should be R.B.Roser."
   ]
  },
  {
   "cell_type": "code",
   "execution_count": 60,
   "metadata": {},
   "outputs": [
    {
     "name": "stdout",
     "output_type": "stream",
     "text": [
      "B. J. Thakkar\n"
     ]
    }
   ],
   "source": [
    "a = \"Bansari Jatin Thakkar\"\n",
    "a = a.split()\n",
    "b = a[0][0]+\". \"+a[1][0]+\". \"+a[2]\n",
    "print(b)\n"
   ]
  },
  {
   "cell_type": "markdown",
   "metadata": {},
   "source": [
    "## 12. Write a program to check if a given string is a Palindrome.A palindrome reads the same from front and back e.g.aba, ccaacc, mom, etc."
   ]
  },
  {
   "cell_type": "code",
   "execution_count": null,
   "metadata": {},
   "outputs": [],
   "source": [
    "x = \"malayalam\"\n",
    " \n",
    "w = \"\"\n",
    "for i in x:\n",
    "    w = i + w\n",
    " \n",
    "if (x == w):\n",
    "    print(\"Yes\")\n",
    "else:\n",
    "    print(\"No\")\n",
    "   "
   ]
  }
 ],
 "metadata": {
  "kernelspec": {
   "display_name": "Python 3",
   "language": "python",
   "name": "python3"
  },
  "language_info": {
   "codemirror_mode": {
    "name": "ipython",
    "version": 3
   },
   "file_extension": ".py",
   "mimetype": "text/x-python",
   "name": "python",
   "nbconvert_exporter": "python",
   "pygments_lexer": "ipython3",
   "version": "3.8.5"
  }
 },
 "nbformat": 4,
 "nbformat_minor": 4
}
