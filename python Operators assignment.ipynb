{
 "cells": [
  {
   "cell_type": "markdown",
   "metadata": {},
   "source": [
    "### 1. Import keyword library and print list of keywords along with total number of keywords"
   ]
  },
  {
   "cell_type": "code",
   "execution_count": 25,
   "metadata": {},
   "outputs": [
    {
     "name": "stdout",
     "output_type": "stream",
     "text": [
      "['False', 'None', 'True', 'and', 'as', 'assert', 'async', 'await', 'break', 'class', 'continue', 'def', 'del', 'elif', 'else', 'except', 'finally', 'for', 'from', 'global', 'if', 'import', 'in', 'is', 'lambda', 'nonlocal', 'not', 'or', 'pass', 'raise', 'return', 'try', 'while', 'with', 'yield']\n"
     ]
    }
   ],
   "source": [
    "import keyword \n",
    "print(keyword.kwlist)\n"
   ]
  },
  {
   "cell_type": "markdown",
   "metadata": {},
   "source": [
    "### 2. In Markdown State, Copy Python keywords image from Google Images and Paste it in your notebook"
   ]
  },
  {
   "cell_type": "markdown",
   "metadata": {},
   "source": [
    "![title](img/python.png)"
   ]
  },
  {
   "cell_type": "markdown",
   "metadata": {},
   "source": [
    "### 3. Create two strings a and b with any integer values stored in it And perform Addition, Multiplication, Subtraction and a2 +b2"
   ]
  },
  {
   "cell_type": "code",
   "execution_count": 7,
   "metadata": {},
   "outputs": [
    {
     "name": "stdout",
     "output_type": "stream",
     "text": [
      "<class 'float'>\n",
      "8.1\n",
      "3.0999999999999996\n",
      "14.0\n",
      "0.44642857142857145\n",
      "31.359999999999996\n",
      "37.61\n"
     ]
    }
   ],
   "source": [
    "a = 2.5\n",
    "b = 5.6\n",
    "\n",
    "print(type(a))\n",
    "add = a + b\n",
    "sub = b - a\n",
    "mul = a * b\n",
    "div = a / b\n",
    "exp = a ** b\n",
    "exp = a * a\n",
    "exp = b * b\n",
    "print(add)\n",
    "print(sub)\n",
    "print(mul)\n",
    "print(div)\n",
    "print(exp)\n",
    "print(a*a + b*b)"
   ]
  },
  {
   "cell_type": "markdown",
   "metadata": {},
   "source": [
    "### 4. Use Boolean operators (==, !=, >, >=, <, <= ) , between a and b and Display output"
   ]
  },
  {
   "cell_type": "code",
   "execution_count": 26,
   "metadata": {},
   "outputs": [
    {
     "name": "stdout",
     "output_type": "stream",
     "text": [
      "False\n",
      "True\n",
      "True\n",
      "False\n",
      "True\n",
      "False\n"
     ]
    }
   ],
   "source": [
    "a = 5\n",
    "b = 3\n",
    "\n",
    "print(a == b)\n",
    "print(a != b)\n",
    "# returns True because 5 is not equal to 3\n",
    "print(a > b)\n",
    "# returns True because 5 is greater than 3\n",
    "print(a < b)\n",
    "# returns False because 5 is not less than 3\n",
    "print(a >= b)\n",
    "# returns True because five is greater, or equal, to 3\n",
    "print(a <= b)\n",
    "# returns False because 5 is neither less than or equal to 3\n"
   ]
  },
  {
   "cell_type": "markdown",
   "metadata": {},
   "source": [
    "### 5. Create two strings x and y with any integer values stored in it And perform bitwise operations (&,^, | ,>>,<<)"
   ]
  },
  {
   "cell_type": "code",
   "execution_count": 3,
   "metadata": {},
   "outputs": [
    {
     "name": "stdout",
     "output_type": "stream",
     "text": [
      "x & y = 4\n",
      "x | y = 7\n",
      "~x = -6\n",
      "x ^ y = 3\n",
      "x >> 1 = 5\n",
      "x >> 1 = -5\n",
      "x << 1 = 10\n",
      "y << 1 = -20\n"
     ]
    }
   ],
   "source": [
    "x = 5\n",
    "y = 6\n",
    "     \n",
    "# Print bitwise AND operation    \n",
    "print(\"x & y =\", x & y)  \n",
    "     \n",
    "# Print bitwise OR operation  \n",
    "print(\"x | y =\", x | y)  \n",
    "     \n",
    "# Print bitwise NOT operation   \n",
    "print(\"~x =\", ~x)  \n",
    "     \n",
    "# print bitwise XOR operation   \n",
    "print(\"x ^ y =\", x ^ y)  \n",
    "    \n",
    " \n",
    "x = 10\n",
    "y = -10\n",
    "   \n",
    "# print bitwise right shift operator \n",
    "print(\"x >> 1 =\", x >> 1) \n",
    "print(\"x >> 1 =\", y >> 1) \n",
    "   \n",
    "x = 5\n",
    "y = -10\n",
    "   \n",
    "# print bitwise left shift operator \n",
    "print(\"x << 1 =\", x << 1) \n",
    "print(\"y << 1 =\", y << 1) "
   ]
  },
  {
   "cell_type": "code",
   "execution_count": null,
   "metadata": {},
   "outputs": [],
   "source": []
  }
 ],
 "metadata": {
  "kernelspec": {
   "display_name": "Python 3",
   "language": "python",
   "name": "python3"
  },
  "language_info": {
   "codemirror_mode": {
    "name": "ipython",
    "version": 3
   },
   "file_extension": ".py",
   "mimetype": "text/x-python",
   "name": "python",
   "nbconvert_exporter": "python",
   "pygments_lexer": "ipython3",
   "version": "3.8.5"
  }
 },
 "nbformat": 4,
 "nbformat_minor": 4
}
