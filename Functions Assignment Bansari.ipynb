{
 "cells": [
  {
   "cell_type": "markdown",
   "metadata": {},
   "source": [
    "### 1. Write a Python function that accepts a string and calculates the number of uppercase letters and lowercase letters."
   ]
  },
  {
   "cell_type": "code",
   "execution_count": 6,
   "metadata": {},
   "outputs": [
    {
     "name": "stdout",
     "output_type": "stream",
     "text": [
      "Original String :  Bansari THAKkar I haVe ComPLETED MY graduation\n",
      "No. of Upper case characters :  16\n",
      "No. of Lower case Characters :  24\n"
     ]
    }
   ],
   "source": [
    "def string_test(s):\n",
    "    d={\"UPPER_CASE\":0, \"LOWER_CASE\":0}\n",
    "    for c in s:\n",
    "        if c.isupper():\n",
    "           d[\"UPPER_CASE\"]+=1\n",
    "        elif c.islower():\n",
    "           d[\"LOWER_CASE\"]+=1\n",
    "        else:\n",
    "           pass\n",
    "    print (\"Original String : \", s)\n",
    "    print (\"No. of Upper case characters : \", d[\"UPPER_CASE\"])\n",
    "    print (\"No. of Lower case Characters : \", d[\"LOWER_CASE\"])\n",
    "string_test('Bansari THAKkar I haVe ComPLETED MY graduation')\n",
    "\n"
   ]
  },
  {
   "cell_type": "markdown",
   "metadata": {},
   "source": [
    "### 2. Write a Python function to create and print a list where the values are squares of numbers between 1 and 30 (both included)."
   ]
  },
  {
   "cell_type": "code",
   "execution_count": 10,
   "metadata": {},
   "outputs": [
    {
     "name": "stdout",
     "output_type": "stream",
     "text": [
      "[1, 4, 9, 16, 25, 36, 49, 64, 81, 100, 121, 144, 169, 196, 225, 256, 289, 324, 361, 400, 441, 484, 529, 576, 625, 676, 729, 784, 841, 900]\n"
     ]
    }
   ],
   "source": [
    "def printValues():\n",
    "    l = list()\n",
    "    for i in range(1,31):\n",
    "        l.append(i**2)\n",
    "    print(l)\n",
    "\n",
    "printValues()\n"
   ]
  },
  {
   "cell_type": "markdown",
   "metadata": {},
   "source": [
    "### 3.Create a function that counts the number of elements within a list that are greater than 30."
   ]
  },
  {
   "cell_type": "code",
   "execution_count": 30,
   "metadata": {},
   "outputs": [
    {
     "name": "stdout",
     "output_type": "stream",
     "text": [
      "The list : [31, 40, 44, 56, 40, 30]\n",
      "The numbers greater than 30 : 5\n"
     ]
    }
   ],
   "source": [
    "your_list = [31, 40, 44, 56, 40, 30] \n",
    "k = 30\n",
    "print (\"The list : \" + str(test_list))\n",
    "count = 0\n",
    "for i in your_list : \n",
    "    if i > k : \n",
    "        count = count + 1\n",
    "print (\"The numbers greater than 30 : \" + str(count))"
   ]
  },
  {
   "cell_type": "markdown",
   "metadata": {},
   "source": [
    "### 4. Write a Python function that takes a list and returns a new list with unique elements of the first list."
   ]
  },
  {
   "cell_type": "code",
   "execution_count": 11,
   "metadata": {},
   "outputs": [
    {
     "name": "stdout",
     "output_type": "stream",
     "text": [
      "[3, 4, 5, 6, 7, 8, 9]\n"
     ]
    }
   ],
   "source": [
    "def unique_list(l):\n",
    "    x = []\n",
    "    for a in l:\n",
    "        if a not in x:\n",
    "            x.append(a)\n",
    "    return x\n",
    "print(unique_list([3,4,4,5,6,7,8,9,9]))"
   ]
  },
  {
   "cell_type": "markdown",
   "metadata": {},
   "source": [
    "### 5. Create a function showEmployee() in such a way that it should accept employee name, and it’s salary and display both, and if the salary is missing in function call it should show it as 9000"
   ]
  },
  {
   "cell_type": "code",
   "execution_count": 31,
   "metadata": {},
   "outputs": [
    {
     "name": "stdout",
     "output_type": "stream",
     "text": [
      "Employee Ben salary is: 9000\n",
      "Employee Ben salary is: 9000\n"
     ]
    }
   ],
   "source": [
    "def showEmployee(name, salary=9000):\n",
    "    print(\"Employee\", name, \"salary is:\", salary)\n",
    "\n",
    "showEmployee(\"Ben\", 9000)\n",
    "showEmployee(\"Ben\")"
   ]
  },
  {
   "cell_type": "markdown",
   "metadata": {},
   "source": [
    "### 6. Write a Python program to count the even, odd numbers in a given array of integers using Lambda."
   ]
  },
  {
   "cell_type": "code",
   "execution_count": 18,
   "metadata": {},
   "outputs": [
    {
     "name": "stdout",
     "output_type": "stream",
     "text": [
      "Original arrays:\n",
      "[11, 22, 33, 44, 55, 66, 77, 84, 99, 110, 111]\n",
      "\n",
      "Number of odd numbers in the above array:  6\n",
      "\n",
      "Number of even numbers in the above array:  5\n"
     ]
    }
   ],
   "source": [
    "array_nums = [11,22,33,44,55,66,77,84,99,110,111]\n",
    "print(\"Original arrays:\")\n",
    "print(array_nums)\n",
    "odd_ctr = len(list(filter(lambda x: (x%2 != 0) , array_nums)))\n",
    "even_ctr = len(list(filter(lambda x: (x%2 == 0) , array_nums)))\n",
    "print(\"\\nNumber of odd numbers in the above array: \", odd_ctr)\n",
    "print(\"\\nNumber of even numbers in the above array: \", even_ctr)"
   ]
  },
  {
   "cell_type": "markdown",
   "metadata": {},
   "source": [
    "### 7. Write a Python program to add two given lists using map and lambda"
   ]
  },
  {
   "cell_type": "code",
   "execution_count": 19,
   "metadata": {},
   "outputs": [
    {
     "name": "stdout",
     "output_type": "stream",
     "text": [
      "Orginal list:\n",
      "[8, 9, 14]\n",
      "[3, 5, 9]\n",
      "\n",
      "Result: after adding two list\n",
      "[11, 14, 23]\n"
     ]
    }
   ],
   "source": [
    "nums1 = [8, 9, 14]\n",
    "nums2 = [3, 5, 9]\n",
    "print(\"Orginal list:\")\n",
    "print(nums1)\n",
    "print(nums2)\n",
    "Result = map(lambda x, y: x + y, nums1, nums2)\n",
    "print(\"\\nResult: after adding two list\")\n",
    "print(list(Result))"
   ]
  },
  {
   "cell_type": "markdown",
   "metadata": {},
   "source": [
    "### 8. Write a Python program to rearrange positive and negative numbers in a given array using Lambda and filter"
   ]
  },
  {
   "cell_type": "code",
   "execution_count": 22,
   "metadata": {},
   "outputs": [
    {
     "name": "stdout",
     "output_type": "stream",
     "text": [
      "Orginal arrays: \n",
      "[4, -7, 0, -1, 2, 8, -3]\n",
      "\n",
      "Rearrange positive and negavite numbers of the said array:\n",
      "[2, 4, 8, 0, -7, -3, -1]\n"
     ]
    }
   ],
   "source": [
    "array_nums = [4, -7, 0, -1, 2, 8, -3]\n",
    "print(\"Orginal arrays: \")\n",
    "print(array_nums)\n",
    "result = sorted(array_nums, key = lambda i: 0 if i== 0 else -1/i)\n",
    "print(\"\\nRearrange positive and negavite numbers of the said array:\")\n",
    "print(result)"
   ]
  },
  {
   "cell_type": "markdown",
   "metadata": {},
   "source": [
    "### 9. Write a Python program to filter a list of integers using Lambda."
   ]
  },
  {
   "cell_type": "code",
   "execution_count": 27,
   "metadata": {},
   "outputs": [
    {
     "name": "stdout",
     "output_type": "stream",
     "text": [
      "Original list of integers:\n",
      "[2, 4, 3, 1, 6, 12, 17, 18, 20]\n",
      "\n",
      "Even numbers from the said list:\n",
      "[2, 4, 6, 12, 18, 20]\n",
      "\n",
      "Odd numbers from the said list:\n",
      "[3, 1, 17]\n"
     ]
    }
   ],
   "source": [
    "nums = [2,4,3,1,6,12,17,18,20]\n",
    "print(\"Original list of integers:\")\n",
    "print(nums)\n",
    "print(\"\\nEven numbers from the said list:\")\n",
    "even_nums = list(filter(lambda x: x%2 == 0, nums))\n",
    "print(even_nums)\n",
    "print(\"\\nOdd numbers from the said list:\")\n",
    "odd_nums = list(filter(lambda x: x%2 != 0, nums))\n",
    "print(odd_nums)"
   ]
  },
  {
   "cell_type": "markdown",
   "metadata": {},
   "source": [
    "### 10. Write a Python program to find the intersection of two given arrays using Lambda and filter."
   ]
  },
  {
   "cell_type": "code",
   "execution_count": 24,
   "metadata": {},
   "outputs": [
    {
     "name": "stdout",
     "output_type": "stream",
     "text": [
      "Orginal arrays: \n",
      "[1, 3, 5, 6, 9, 10, 11]\n",
      "[3, 10, 11, 5, 13, 20]\n",
      "\n",
      "Intersection of the said arrays:\n",
      "[3, 10, 11, 5]\n"
     ]
    }
   ],
   "source": [
    "array_nums1 = [1,3,5,6,9,10,11]\n",
    "array_nums2 = [3,10,11,5,13,20]\n",
    "print(\"Orginal arrays: \")\n",
    "print(array_nums1)\n",
    "print(array_nums2)\n",
    "result = list(filter(lambda x: x in array_nums1, array_nums2))\n",
    "print(\"\\nIntersection of the said arrays:\")\n",
    "print(result)"
   ]
  }
 ],
 "metadata": {
  "kernelspec": {
   "display_name": "Python 3",
   "language": "python",
   "name": "python3"
  },
  "language_info": {
   "codemirror_mode": {
    "name": "ipython",
    "version": 3
   },
   "file_extension": ".py",
   "mimetype": "text/x-python",
   "name": "python",
   "nbconvert_exporter": "python",
   "pygments_lexer": "ipython3",
   "version": "3.8.5"
  }
 },
 "nbformat": 4,
 "nbformat_minor": 4
}
